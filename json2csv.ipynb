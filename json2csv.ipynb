{
 "cells": [
  {
   "cell_type": "markdown",
   "id": "bc482495-693a-4b9a-906c-a655d58c829d",
   "metadata": {},
   "source": [
    "# Reviews"
   ]
  },
  {
   "cell_type": "code",
   "execution_count": 2,
   "id": "715ac458-f6e8-4b27-8748-fde6c7ca7304",
   "metadata": {},
   "outputs": [],
   "source": [
    "import json\n",
    "import os\n",
    "\n",
    "import numpy as np\n",
    "import pandas as pd\n",
    "from tqdm import tqdm"
   ]
  },
  {
   "cell_type": "code",
   "execution_count": 35,
   "id": "65dc6221-fa73-4191-b95c-9cb0acbe84b6",
   "metadata": {},
   "outputs": [
    {
     "name": "stderr",
     "output_type": "stream",
     "text": [
      "6990280it [03:00, 38775.08it/s]\n"
     ]
    }
   ],
   "source": [
    "data = {'review_id': [], \"user_id\": [], \"business_id\": [],'stars': [], 'date': [], 'text': []}\n",
    "\n",
    "with open(r'C:\\Users\\bmmur\\OneDrive\\Desktop\\Yelp_Data\\yelp_academic_dataset_review.json',encoding='utf8') as f:\n",
    "    for line in tqdm(f):\n",
    "        review = json.loads(line)\n",
    "        data['review_id'].append(review['review_id'])\n",
    "        data['user_id'].append(review['user_id'])\n",
    "        data['business_id'].append(review['business_id'])\n",
    "        data['stars'].append(review['stars'])\n",
    "        data['date'].append(review['date'])\n",
    "        data['text'].append(review['text'])"
   ]
  },
  {
   "cell_type": "code",
   "execution_count": 36,
   "id": "a779bdf7-8572-49f3-a36b-e7cb217b00aa",
   "metadata": {},
   "outputs": [
    {
     "name": "stdout",
     "output_type": "stream",
     "text": [
      "(6990280, 6)\n"
     ]
    },
    {
     "data": {
      "text/html": [
       "<div>\n",
       "<style scoped>\n",
       "    .dataframe tbody tr th:only-of-type {\n",
       "        vertical-align: middle;\n",
       "    }\n",
       "\n",
       "    .dataframe tbody tr th {\n",
       "        vertical-align: top;\n",
       "    }\n",
       "\n",
       "    .dataframe thead th {\n",
       "        text-align: right;\n",
       "    }\n",
       "</style>\n",
       "<table border=\"1\" class=\"dataframe\">\n",
       "  <thead>\n",
       "    <tr style=\"text-align: right;\">\n",
       "      <th></th>\n",
       "      <th>review_id</th>\n",
       "      <th>user_id</th>\n",
       "      <th>business_id</th>\n",
       "      <th>stars</th>\n",
       "      <th>date</th>\n",
       "      <th>text</th>\n",
       "    </tr>\n",
       "  </thead>\n",
       "  <tbody>\n",
       "    <tr>\n",
       "      <th>0</th>\n",
       "      <td>KU_O5udG6zpxOg-VcAEodg</td>\n",
       "      <td>mh_-eMZ6K5RLWhZyISBhwA</td>\n",
       "      <td>XQfwVwDr-v0ZS3_CbbE5Xw</td>\n",
       "      <td>3.0</td>\n",
       "      <td>2018-07-07 22:09:11</td>\n",
       "      <td>If you decide to eat here, just be aware it is...</td>\n",
       "    </tr>\n",
       "    <tr>\n",
       "      <th>1</th>\n",
       "      <td>BiTunyQ73aT9WBnpR9DZGw</td>\n",
       "      <td>OyoGAe7OKpv6SyGZT5g77Q</td>\n",
       "      <td>7ATYjTIgM3jUlt4UM3IypQ</td>\n",
       "      <td>5.0</td>\n",
       "      <td>2012-01-03 15:28:18</td>\n",
       "      <td>I've taken a lot of spin classes over the year...</td>\n",
       "    </tr>\n",
       "    <tr>\n",
       "      <th>2</th>\n",
       "      <td>saUsX_uimxRlCVr67Z4Jig</td>\n",
       "      <td>8g_iMtfSiwikVnbP2etR0A</td>\n",
       "      <td>YjUWPpI6HXG530lwP-fb2A</td>\n",
       "      <td>3.0</td>\n",
       "      <td>2014-02-05 20:30:30</td>\n",
       "      <td>Family diner. Had the buffet. Eclectic assortm...</td>\n",
       "    </tr>\n",
       "    <tr>\n",
       "      <th>3</th>\n",
       "      <td>AqPFMleE6RsU23_auESxiA</td>\n",
       "      <td>_7bHUi9Uuf5__HHc_Q8guQ</td>\n",
       "      <td>kxX2SOes4o-D3ZQBkiMRfA</td>\n",
       "      <td>5.0</td>\n",
       "      <td>2015-01-04 00:01:03</td>\n",
       "      <td>Wow!  Yummy, different,  delicious.   Our favo...</td>\n",
       "    </tr>\n",
       "    <tr>\n",
       "      <th>4</th>\n",
       "      <td>Sx8TMOWLNuJBWer-0pcmoA</td>\n",
       "      <td>bcjbaE6dDog4jkNY91ncLQ</td>\n",
       "      <td>e4Vwtrqf-wpJfwesgvdgxQ</td>\n",
       "      <td>4.0</td>\n",
       "      <td>2017-01-14 20:54:15</td>\n",
       "      <td>Cute interior and owner (?) gave us tour of up...</td>\n",
       "    </tr>\n",
       "  </tbody>\n",
       "</table>\n",
       "</div>"
      ],
      "text/plain": [
       "                review_id                 user_id             business_id  \\\n",
       "0  KU_O5udG6zpxOg-VcAEodg  mh_-eMZ6K5RLWhZyISBhwA  XQfwVwDr-v0ZS3_CbbE5Xw   \n",
       "1  BiTunyQ73aT9WBnpR9DZGw  OyoGAe7OKpv6SyGZT5g77Q  7ATYjTIgM3jUlt4UM3IypQ   \n",
       "2  saUsX_uimxRlCVr67Z4Jig  8g_iMtfSiwikVnbP2etR0A  YjUWPpI6HXG530lwP-fb2A   \n",
       "3  AqPFMleE6RsU23_auESxiA  _7bHUi9Uuf5__HHc_Q8guQ  kxX2SOes4o-D3ZQBkiMRfA   \n",
       "4  Sx8TMOWLNuJBWer-0pcmoA  bcjbaE6dDog4jkNY91ncLQ  e4Vwtrqf-wpJfwesgvdgxQ   \n",
       "\n",
       "   stars                 date  \\\n",
       "0    3.0  2018-07-07 22:09:11   \n",
       "1    5.0  2012-01-03 15:28:18   \n",
       "2    3.0  2014-02-05 20:30:30   \n",
       "3    5.0  2015-01-04 00:01:03   \n",
       "4    4.0  2017-01-14 20:54:15   \n",
       "\n",
       "                                                text  \n",
       "0  If you decide to eat here, just be aware it is...  \n",
       "1  I've taken a lot of spin classes over the year...  \n",
       "2  Family diner. Had the buffet. Eclectic assortm...  \n",
       "3  Wow!  Yummy, different,  delicious.   Our favo...  \n",
       "4  Cute interior and owner (?) gave us tour of up...  "
      ]
     },
     "execution_count": 36,
     "metadata": {},
     "output_type": "execute_result"
    }
   ],
   "source": [
    "df = pd.DataFrame(data)\n",
    "\n",
    "print(df.shape)\n",
    "df.head()"
   ]
  },
  {
   "cell_type": "code",
   "execution_count": 37,
   "id": "5a261e91-3142-4f36-8f18-26c474e4f5c9",
   "metadata": {},
   "outputs": [],
   "source": [
    "df['review_id'] = df['review_id'].astype('category')\n",
    "df['user_id'] = df['user_id'].astype('category')\n",
    "df['business_id'] = df['business_id'].astype('category')\n",
    "df['stars'] = df['stars'].astype('category')\n",
    "df['date'] = df['date'].astype('category')\n",
    "df['text'] = df['text'].astype(str)"
   ]
  },
  {
   "cell_type": "code",
   "execution_count": 38,
   "id": "cedbff9c-6cd3-4098-8986-eab696d24477",
   "metadata": {},
   "outputs": [],
   "source": [
    "df.to_csv('yelp_reviews.csv', index=False)"
   ]
  },
  {
   "cell_type": "markdown",
   "id": "fc589511-4f60-49e2-9551-024a8b867811",
   "metadata": {},
   "source": [
    "# Businesses"
   ]
  },
  {
   "cell_type": "code",
   "execution_count": 6,
   "id": "1a1d9f58-efa7-4236-88b4-842b59952fe0",
   "metadata": {},
   "outputs": [
    {
     "name": "stderr",
     "output_type": "stream",
     "text": [
      "150346it [00:05, 29075.12it/s]\n"
     ]
    }
   ],
   "source": [
    "bus_data= {'business_id': [], \"name\": [], 'city': [], 'state': [], 'latitude': [],'longitude': [], 'stars': [], 'review_count': [], 'is_open': [], 'categories': []}\n",
    "\n",
    "with open(r'C:\\Users\\bmmur\\OneDrive\\Desktop\\Yelp_Data\\yelp_academic_dataset_business.json',encoding='utf8') as f:\n",
    "    for line in tqdm(f):\n",
    "        review = json.loads(line)\n",
    "        bus_data['business_id'].append(review['business_id'])\n",
    "        bus_data['name'].append(review['name'])\n",
    "        bus_data['city'].append(review['city'])\n",
    "        bus_data['state'].append(review['state'])\n",
    "        bus_data['latitude'].append(review['latitude'])\n",
    "        bus_data['longitude'].append(review['longitude'])\n",
    "        bus_data['stars'].append(review['stars'])\n",
    "        bus_data['review_count'].append(review['review_count'])\n",
    "        bus_data['is_open'].append(review['is_open'])\n",
    "        bus_data['categories'].append(review['categories'])"
   ]
  },
  {
   "cell_type": "code",
   "execution_count": 7,
   "id": "c24c2912-0e41-47cd-a02d-d1c2ad6726d1",
   "metadata": {},
   "outputs": [
    {
     "name": "stdout",
     "output_type": "stream",
     "text": [
      "(150346, 10)\n"
     ]
    },
    {
     "data": {
      "text/html": [
       "<div>\n",
       "<style scoped>\n",
       "    .dataframe tbody tr th:only-of-type {\n",
       "        vertical-align: middle;\n",
       "    }\n",
       "\n",
       "    .dataframe tbody tr th {\n",
       "        vertical-align: top;\n",
       "    }\n",
       "\n",
       "    .dataframe thead th {\n",
       "        text-align: right;\n",
       "    }\n",
       "</style>\n",
       "<table border=\"1\" class=\"dataframe\">\n",
       "  <thead>\n",
       "    <tr style=\"text-align: right;\">\n",
       "      <th></th>\n",
       "      <th>business_id</th>\n",
       "      <th>name</th>\n",
       "      <th>city</th>\n",
       "      <th>state</th>\n",
       "      <th>latitude</th>\n",
       "      <th>longitude</th>\n",
       "      <th>stars</th>\n",
       "      <th>review_count</th>\n",
       "      <th>is_open</th>\n",
       "      <th>categories</th>\n",
       "    </tr>\n",
       "  </thead>\n",
       "  <tbody>\n",
       "    <tr>\n",
       "      <th>0</th>\n",
       "      <td>Pns2l4eNsfO8kk83dixA6A</td>\n",
       "      <td>Abby Rappoport, LAC, CMQ</td>\n",
       "      <td>Santa Barbara</td>\n",
       "      <td>CA</td>\n",
       "      <td>34.426679</td>\n",
       "      <td>-119.711197</td>\n",
       "      <td>5.0</td>\n",
       "      <td>7</td>\n",
       "      <td>0</td>\n",
       "      <td>Doctors, Traditional Chinese Medicine, Naturop...</td>\n",
       "    </tr>\n",
       "    <tr>\n",
       "      <th>1</th>\n",
       "      <td>mpf3x-BjTdTEA3yCZrAYPw</td>\n",
       "      <td>The UPS Store</td>\n",
       "      <td>Affton</td>\n",
       "      <td>MO</td>\n",
       "      <td>38.551126</td>\n",
       "      <td>-90.335695</td>\n",
       "      <td>3.0</td>\n",
       "      <td>15</td>\n",
       "      <td>1</td>\n",
       "      <td>Shipping Centers, Local Services, Notaries, Ma...</td>\n",
       "    </tr>\n",
       "    <tr>\n",
       "      <th>2</th>\n",
       "      <td>tUFrWirKiKi_TAnsVWINQQ</td>\n",
       "      <td>Target</td>\n",
       "      <td>Tucson</td>\n",
       "      <td>AZ</td>\n",
       "      <td>32.223236</td>\n",
       "      <td>-110.880452</td>\n",
       "      <td>3.5</td>\n",
       "      <td>22</td>\n",
       "      <td>0</td>\n",
       "      <td>Department Stores, Shopping, Fashion, Home &amp; G...</td>\n",
       "    </tr>\n",
       "    <tr>\n",
       "      <th>3</th>\n",
       "      <td>MTSW4McQd7CbVtyjqoe9mw</td>\n",
       "      <td>St Honore Pastries</td>\n",
       "      <td>Philadelphia</td>\n",
       "      <td>PA</td>\n",
       "      <td>39.955505</td>\n",
       "      <td>-75.155564</td>\n",
       "      <td>4.0</td>\n",
       "      <td>80</td>\n",
       "      <td>1</td>\n",
       "      <td>Restaurants, Food, Bubble Tea, Coffee &amp; Tea, B...</td>\n",
       "    </tr>\n",
       "    <tr>\n",
       "      <th>4</th>\n",
       "      <td>mWMc6_wTdE0EUBKIGXDVfA</td>\n",
       "      <td>Perkiomen Valley Brewery</td>\n",
       "      <td>Green Lane</td>\n",
       "      <td>PA</td>\n",
       "      <td>40.338183</td>\n",
       "      <td>-75.471659</td>\n",
       "      <td>4.5</td>\n",
       "      <td>13</td>\n",
       "      <td>1</td>\n",
       "      <td>Brewpubs, Breweries, Food</td>\n",
       "    </tr>\n",
       "  </tbody>\n",
       "</table>\n",
       "</div>"
      ],
      "text/plain": [
       "              business_id                      name           city state  \\\n",
       "0  Pns2l4eNsfO8kk83dixA6A  Abby Rappoport, LAC, CMQ  Santa Barbara    CA   \n",
       "1  mpf3x-BjTdTEA3yCZrAYPw             The UPS Store         Affton    MO   \n",
       "2  tUFrWirKiKi_TAnsVWINQQ                    Target         Tucson    AZ   \n",
       "3  MTSW4McQd7CbVtyjqoe9mw        St Honore Pastries   Philadelphia    PA   \n",
       "4  mWMc6_wTdE0EUBKIGXDVfA  Perkiomen Valley Brewery     Green Lane    PA   \n",
       "\n",
       "    latitude   longitude  stars  review_count  is_open  \\\n",
       "0  34.426679 -119.711197    5.0             7        0   \n",
       "1  38.551126  -90.335695    3.0            15        1   \n",
       "2  32.223236 -110.880452    3.5            22        0   \n",
       "3  39.955505  -75.155564    4.0            80        1   \n",
       "4  40.338183  -75.471659    4.5            13        1   \n",
       "\n",
       "                                          categories  \n",
       "0  Doctors, Traditional Chinese Medicine, Naturop...  \n",
       "1  Shipping Centers, Local Services, Notaries, Ma...  \n",
       "2  Department Stores, Shopping, Fashion, Home & G...  \n",
       "3  Restaurants, Food, Bubble Tea, Coffee & Tea, B...  \n",
       "4                          Brewpubs, Breweries, Food  "
      ]
     },
     "execution_count": 7,
     "metadata": {},
     "output_type": "execute_result"
    }
   ],
   "source": [
    "df_bus = pd.DataFrame(bus_data)\n",
    "\n",
    "print(df_bus.shape)\n",
    "df_bus.head()"
   ]
  },
  {
   "cell_type": "code",
   "execution_count": 8,
   "id": "d857a876-6af5-4f87-9573-036c959db3e9",
   "metadata": {},
   "outputs": [],
   "source": [
    "df_bus['business_id'] = df_bus['business_id'].astype(str)\n",
    "df_bus['name'] = df_bus['name'].astype(str)\n",
    "df_bus['city'] = df_bus['city'].astype(str)\n",
    "df_bus['state'] = df_bus['state'].astype(str)\n",
    "df_bus['latitude'] = df_bus['latitude'].astype(float)\n",
    "df_bus['longitude'] = df_bus['longitude'].astype(float)\n",
    "df_bus['stars'] = df_bus['stars'].astype(float)\n",
    "df_bus['review_count'] = df_bus['review_count'].astype(int)\n",
    "df_bus['is_open'] = df_bus['is_open'].astype(int)\n",
    "df_bus['categories'] = df_bus['categories'].astype(str)"
   ]
  },
  {
   "cell_type": "code",
   "execution_count": 10,
   "id": "0226e319-b8bf-41ab-8ccf-64cd8fe58e75",
   "metadata": {},
   "outputs": [],
   "source": [
    "df_bus.to_csv('updated_yelp_business.csv', index=False)"
   ]
  },
  {
   "cell_type": "markdown",
   "id": "bde62f8f-432f-4c01-b37d-676b95e52989",
   "metadata": {},
   "source": [
    "# Reviewers (People's Info)"
   ]
  },
  {
   "cell_type": "code",
   "execution_count": 45,
   "id": "a75a1137-6516-4f33-a516-a95ea1f991c9",
   "metadata": {},
   "outputs": [
    {
     "name": "stderr",
     "output_type": "stream",
     "text": [
      "1987897it [01:18, 25189.59it/s]\n"
     ]
    }
   ],
   "source": [
    "user_data= {'user_id': [], \"review_count\": [], 'yelping_since': [], 'average_stars': [], 'name': []}\n",
    "\n",
    "with open(r\"C:\\Users\\bmmur\\OneDrive\\Desktop\\Yelp_Data\\yelp_academic_dataset_user.json\",encoding='utf8') as f:\n",
    "    for line in tqdm(f):\n",
    "        review = json.loads(line)\n",
    "        user_data['user_id'].append(review['user_id'])\n",
    "        user_data['review_count'].append(review['review_count'])\n",
    "        user_data['yelping_since'].append(review['yelping_since'])\n",
    "        user_data['average_stars'].append(review['average_stars'])\n",
    "        user_data['name'].append(review['name'])"
   ]
  },
  {
   "cell_type": "code",
   "execution_count": 46,
   "id": "91fa520a-0f33-4de8-b7bb-4682fa95f98d",
   "metadata": {},
   "outputs": [
    {
     "name": "stdout",
     "output_type": "stream",
     "text": [
      "(1987897, 5)\n"
     ]
    },
    {
     "data": {
      "text/html": [
       "<div>\n",
       "<style scoped>\n",
       "    .dataframe tbody tr th:only-of-type {\n",
       "        vertical-align: middle;\n",
       "    }\n",
       "\n",
       "    .dataframe tbody tr th {\n",
       "        vertical-align: top;\n",
       "    }\n",
       "\n",
       "    .dataframe thead th {\n",
       "        text-align: right;\n",
       "    }\n",
       "</style>\n",
       "<table border=\"1\" class=\"dataframe\">\n",
       "  <thead>\n",
       "    <tr style=\"text-align: right;\">\n",
       "      <th></th>\n",
       "      <th>user_id</th>\n",
       "      <th>review_count</th>\n",
       "      <th>yelping_since</th>\n",
       "      <th>average_stars</th>\n",
       "      <th>name</th>\n",
       "    </tr>\n",
       "  </thead>\n",
       "  <tbody>\n",
       "    <tr>\n",
       "      <th>0</th>\n",
       "      <td>qVc8ODYU5SZjKXVBgXdI7w</td>\n",
       "      <td>585</td>\n",
       "      <td>2007-01-25 16:47:26</td>\n",
       "      <td>3.91</td>\n",
       "      <td>Walker</td>\n",
       "    </tr>\n",
       "    <tr>\n",
       "      <th>1</th>\n",
       "      <td>j14WgRoU_-2ZE1aw1dXrJg</td>\n",
       "      <td>4333</td>\n",
       "      <td>2009-01-25 04:35:42</td>\n",
       "      <td>3.74</td>\n",
       "      <td>Daniel</td>\n",
       "    </tr>\n",
       "    <tr>\n",
       "      <th>2</th>\n",
       "      <td>2WnXYQFK0hXEoTxPtV2zvg</td>\n",
       "      <td>665</td>\n",
       "      <td>2008-07-25 10:41:00</td>\n",
       "      <td>3.32</td>\n",
       "      <td>Steph</td>\n",
       "    </tr>\n",
       "    <tr>\n",
       "      <th>3</th>\n",
       "      <td>SZDeASXq7o05mMNLshsdIA</td>\n",
       "      <td>224</td>\n",
       "      <td>2005-11-29 04:38:33</td>\n",
       "      <td>4.27</td>\n",
       "      <td>Gwen</td>\n",
       "    </tr>\n",
       "    <tr>\n",
       "      <th>4</th>\n",
       "      <td>hA5lMy-EnncsH4JoR-hFGQ</td>\n",
       "      <td>79</td>\n",
       "      <td>2007-01-05 19:40:59</td>\n",
       "      <td>3.54</td>\n",
       "      <td>Karen</td>\n",
       "    </tr>\n",
       "  </tbody>\n",
       "</table>\n",
       "</div>"
      ],
      "text/plain": [
       "                  user_id  review_count        yelping_since  average_stars  \\\n",
       "0  qVc8ODYU5SZjKXVBgXdI7w           585  2007-01-25 16:47:26           3.91   \n",
       "1  j14WgRoU_-2ZE1aw1dXrJg          4333  2009-01-25 04:35:42           3.74   \n",
       "2  2WnXYQFK0hXEoTxPtV2zvg           665  2008-07-25 10:41:00           3.32   \n",
       "3  SZDeASXq7o05mMNLshsdIA           224  2005-11-29 04:38:33           4.27   \n",
       "4  hA5lMy-EnncsH4JoR-hFGQ            79  2007-01-05 19:40:59           3.54   \n",
       "\n",
       "     name  \n",
       "0  Walker  \n",
       "1  Daniel  \n",
       "2   Steph  \n",
       "3    Gwen  \n",
       "4   Karen  "
      ]
     },
     "execution_count": 46,
     "metadata": {},
     "output_type": "execute_result"
    }
   ],
   "source": [
    "df_user = pd.DataFrame(user_data)\n",
    "\n",
    "print(df_user.shape)\n",
    "df_user.head()"
   ]
  },
  {
   "cell_type": "code",
   "execution_count": 47,
   "id": "f102cd0e-a892-4ca7-b19b-f1d9dc2696dd",
   "metadata": {},
   "outputs": [],
   "source": [
    "df_user['user_id'] = df_user['user_id'].astype(str)\n",
    "df_user['review_count'] = df_user['review_count'].astype(str)\n",
    "df_user['yelping_since'] = df_user['yelping_since'].astype(str)\n",
    "df_user['average_stars'] = df_user['average_stars'].astype(str)\n",
    "df_user['name'] = df_user['name'].astype(str)"
   ]
  },
  {
   "cell_type": "code",
   "execution_count": 48,
   "id": "73f898f6-6461-45bd-9882-8c1790fee81f",
   "metadata": {},
   "outputs": [],
   "source": [
    "df_user.to_csv('yelp_user.csv', index=False)"
   ]
  },
  {
   "cell_type": "code",
   "execution_count": null,
   "id": "d83e5417-3a44-4b92-9546-d1124494d444",
   "metadata": {},
   "outputs": [],
   "source": []
  }
 ],
 "metadata": {
  "kernelspec": {
   "display_name": "Python 3 (ipykernel)",
   "language": "python",
   "name": "python3"
  },
  "language_info": {
   "codemirror_mode": {
    "name": "ipython",
    "version": 3
   },
   "file_extension": ".py",
   "mimetype": "text/x-python",
   "name": "python",
   "nbconvert_exporter": "python",
   "pygments_lexer": "ipython3",
   "version": "3.11.7"
  }
 },
 "nbformat": 4,
 "nbformat_minor": 5
}
